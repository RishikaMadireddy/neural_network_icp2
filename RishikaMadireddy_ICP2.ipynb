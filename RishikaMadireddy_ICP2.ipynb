{
  "nbformat": 4,
  "nbformat_minor": 0,
  "metadata": {
    "colab": {
      "provenance": [],
      "authorship_tag": "ABX9TyPzE0kwaHWvdIwKT0bSCTss",
      "include_colab_link": true
    },
    "kernelspec": {
      "name": "python3",
      "display_name": "Python 3"
    },
    "language_info": {
      "name": "python"
    }
  },
  "cells": [
    {
      "cell_type": "markdown",
      "metadata": {
        "id": "view-in-github",
        "colab_type": "text"
      },
      "source": [
        "<a href=\"https://colab.research.google.com/github/RishikaMadireddy/neural_network_icp2/blob/main/RishikaMadireddy_ICP2.ipynb\" target=\"_parent\"><img src=\"https://colab.research.google.com/assets/colab-badge.svg\" alt=\"Open In Colab\"/></a>"
      ]
    },
    {
      "cell_type": "code",
      "source": [
        "#enter first name as the input\n",
        "First_name = ( input(\"Your First Name : \"))\n",
        "#enter the last name as the input\n",
        "last_name = (input(\"Your Last Name : \"))\n",
        "#printing the full name\n",
        "Full_Name = print(First_name + last_name)"
      ],
      "metadata": {
        "colab": {
          "base_uri": "https://localhost:8080/"
        },
        "id": "lqF8Dc4AgL2r",
        "outputId": "5757cdd8-da8d-4391-e765-a65af050c8e5"
      },
      "execution_count": 17,
      "outputs": [
        {
          "output_type": "stream",
          "name": "stdout",
          "text": [
            "Your First Name : Rishika\n",
            "Your Last Name : Madireddy\n",
            "RishikaMadireddy\n"
          ]
        }
      ]
    },
    {
      "cell_type": "code",
      "source": [
        "#use def key with string alternative\n",
        "def string_alternative(Str):\n",
        "   output = \"\"\n",
        "   for a in range(len(Str)):\n",
        "    #If the string word count if divisible by 2 and equal to 0\n",
        "       if a % 2 == 0:\n",
        "           output += Str[a]\n",
        "    #otherwise return output which prints alternate characters\n",
        "   return output\n",
        "   #print the output using string_alternative fucntion\n",
        "print(string_alternative(\"Good evening\"))"
      ],
      "metadata": {
        "colab": {
          "base_uri": "https://localhost:8080/"
        },
        "id": "z_DCikpTgquv",
        "outputId": "d5ee0278-1542-467a-eda0-eaf5ee7c0413"
      },
      "execution_count": 18,
      "outputs": [
        {
          "output_type": "stream",
          "name": "stdout",
          "text": [
            "Go vnn\n"
          ]
        }
      ]
    },
    {
      "cell_type": "code",
      "source": [
        "#program to find the wordcount in a file (input.txt) for each line\n",
        "file1 = open('/input.txt', 'r')\n",
        "counts = dict()\n",
        "#reads the file\n",
        "data = file1.read()\n",
        "#splits the data\n",
        "words = data.split()\n",
        "#using for loop it counts the words in the file and prints\n",
        "for word in words:\n",
        "   if word in counts:\n",
        "       counts[word] += 1\n",
        "   else:\n",
        "       counts[word] = 1\n",
        "print(counts)"
      ],
      "metadata": {
        "colab": {
          "base_uri": "https://localhost:8080/"
        },
        "id": "9xLxOuMfhdXm",
        "outputId": "1fc911fc-094d-4ace-aa7c-fdc420e3d06d"
      },
      "execution_count": 20,
      "outputs": [
        {
          "output_type": "stream",
          "name": "stdout",
          "text": [
            "{'Python': 1, 'Course': 2, 'Deep': 1, 'Learning': 1}\n"
          ]
        }
      ]
    },
    {
      "cell_type": "code",
      "source": [
        "L1=list(map(float,input().split()))\n",
        "L2=[]\n",
        "for x in L1:\n",
        "   x=x*2.54\n",
        "   L2.append(x)\n",
        "print(L2)"
      ],
      "metadata": {
        "colab": {
          "base_uri": "https://localhost:8080/"
        },
        "id": "XB2Eh9dpiWnV",
        "outputId": "b1ce3c78-a203-4580-a49c-36f975fb63f5"
      },
      "execution_count": 22,
      "outputs": [
        {
          "output_type": "stream",
          "name": "stdout",
          "text": [
            "150 167 180 187\n",
            "[381.0, 424.18, 457.2, 474.98]\n"
          ]
        }
      ]
    },
    {
      "cell_type": "code",
      "source": [
        "L1=list(map(float,input().split()))\n",
        "L2=[x*2.54 for x in L1]\n",
        "print(L2)"
      ],
      "metadata": {
        "colab": {
          "base_uri": "https://localhost:8080/"
        },
        "id": "hPZ1_0wEkAnH",
        "outputId": "81ff718b-fd81-4108-d7b8-ef4c01af9fd7"
      },
      "execution_count": 23,
      "outputs": [
        {
          "output_type": "stream",
          "name": "stdout",
          "text": [
            "150 167 180 187\n",
            "[381.0, 424.18, 457.2, 474.98]\n"
          ]
        }
      ]
    },
    {
      "cell_type": "code",
      "source": [],
      "metadata": {
        "id": "SMs5MAQppeWT"
      },
      "execution_count": null,
      "outputs": []
    }
  ]
}